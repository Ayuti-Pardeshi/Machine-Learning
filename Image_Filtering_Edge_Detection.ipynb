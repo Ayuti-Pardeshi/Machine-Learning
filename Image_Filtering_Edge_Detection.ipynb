{
 "cells": [
  {
   "cell_type": "markdown",
   "id": "c2f175d3",
   "metadata": {},
   "source": [
    "# 📌 Image Filtering & Edge Detection using OpenCV  \n",
    "    \n",
    "### ✨ Gaussian, Median, and Sobel Filters  \n",
    "In this notebook, we will apply different image processing techniques to filter images and detect edges using **OpenCV** and **NumPy**.  \n",
    "These techniques are widely used in **computer vision** applications like object detection, image enhancement, and self-driving cars. 🚗  \n",
    "    \n",
    "---  \n"
   ]
  },
  {
   "cell_type": "code",
   "execution_count": null,
   "id": "68aaf5f9",
   "metadata": {},
   "outputs": [],
   "source": [
    "# Import required libraries\n",
    "import cv2\n",
    "import numpy as np\n",
    "import matplotlib.pyplot as plt\n",
    "\n",
    "# Ensure inline display in Jupyter Notebook\n",
    "%matplotlib inline  \n"
   ]
  },
  {
   "cell_type": "code",
   "execution_count": null,
   "id": "70fb71e7",
   "metadata": {},
   "outputs": [],
   "source": [
    "# Function to apply Gaussian Filter (Smoothening)\n",
    "def apply_gaussian_filter(image):\n",
    "    return cv2.GaussianBlur(image, (5, 5), 0)\n",
    "\n",
    "# Function to apply Median Filter (Noise Removal)\n",
    "def apply_median_filter(image):\n",
    "    return cv2.medianBlur(image, 5)\n",
    "\n",
    "# Function to apply Sobel Filter (Edge Detection)\n",
    "def apply_sobel_filter(image):\n",
    "    gray = cv2.cvtColor(image, cv2.COLOR_BGR2GRAY)  # Convert to grayscale\n",
    "    sobelx = cv2.Sobel(gray, cv2.CV_64F, 1, 0, ksize=5)  # X gradient\n",
    "    sobely = cv2.Sobel(gray, cv2.CV_64F, 0, 1, ksize=5)  # Y gradient\n",
    "    sobel_combined = cv2.magnitude(sobelx, sobely)  # Combine gradients\n",
    "    return np.uint8(sobel_combined)  # Convert to 8-bit image\n"
   ]
  },
  {
   "cell_type": "code",
   "execution_count": null,
   "id": "1fd1d093",
   "metadata": {},
   "outputs": [],
   "source": [
    "# Function to display original and filtered images\n",
    "def display_images(original, gaussian, median, sobel):\n",
    "    plt.figure(figsize=(12, 8))  # Set figure size\n",
    "    \n",
    "    # Original Image\n",
    "    plt.subplot(2, 2, 1)\n",
    "    plt.imshow(cv2.cvtColor(original, cv2.COLOR_BGR2RGB))\n",
    "    plt.title('🖼 Original Image', fontsize=12, fontweight='bold')\n",
    "    plt.axis('off')\n",
    "\n",
    "    # Gaussian Filtered Image\n",
    "    plt.subplot(2, 2, 2)\n",
    "    plt.imshow(cv2.cvtColor(gaussian, cv2.COLOR_BGR2RGB))\n",
    "    plt.title('🌫 Gaussian Filter', fontsize=12, fontweight='bold')\n",
    "    plt.axis('off')\n",
    "\n",
    "    # Median Filtered Image\n",
    "    plt.subplot(2, 2, 3)\n",
    "    plt.imshow(cv2.cvtColor(median, cv2.COLOR_BGR2RGB))\n",
    "    plt.title('🔍 Median Filter', fontsize=12, fontweight='bold')\n",
    "    plt.axis('off')\n",
    "\n",
    "    # Sobel Edge Detection\n",
    "    plt.subplot(2, 2, 4)\n",
    "    plt.imshow(sobel, cmap='gray')\n",
    "    plt.title('⚡ Sobel Edge Detection', fontsize=12, fontweight='bold')\n",
    "    plt.axis('off')\n",
    "\n",
    "    plt.tight_layout()  # Adjust layout for better spacing\n",
    "    plt.show()\n"
   ]
  },
  {
   "cell_type": "code",
   "execution_count": null,
   "id": "581447db",
   "metadata": {},
   "outputs": [],
   "source": [
    "# Load the image (Change path as per your system)\n",
    "image_path = \"1111.png\"\n",
    "image = cv2.imread(image_path)\n",
    "\n",
    "# Check if image loaded successfully\n",
    "if image is None:\n",
    "    print(\"❌ Error: Image not found! Please check the file path.\")\n",
    "else:\n",
    "    # Apply filters\n",
    "    gaussian_filtered = apply_gaussian_filter(image)\n",
    "    median_filtered = apply_median_filter(image)\n",
    "    sobel_filtered = apply_sobel_filter(image)\n",
    "    \n",
    "    # Display results\n",
    "    display_images(image, gaussian_filtered, median_filtered, sobel_filtered)\n"
   ]
  }
 ],
 "metadata": {
  "language_info": {
   "name": "python"
  }
 },
 "nbformat": 4,
 "nbformat_minor": 5
}
